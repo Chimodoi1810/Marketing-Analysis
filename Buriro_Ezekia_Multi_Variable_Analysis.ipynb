{
  "nbformat": 4,
  "nbformat_minor": 0,
  "metadata": {
    "colab": {
      "provenance": []
    },
    "kernelspec": {
      "name": "python3",
      "display_name": "Python 3"
    },
    "language_info": {
      "name": "python"
    }
  },
  "cells": [
    {
      "cell_type": "code",
      "execution_count": 46,
      "metadata": {
        "colab": {
          "base_uri": "https://localhost:8080/"
        },
        "id": "8uTViFblcxz_",
        "outputId": "a5a95e43-e9dc-4653-8524-dc2406d776c0"
      },
      "outputs": [
        {
          "output_type": "stream",
          "name": "stdout",
          "text": [
            "     Mkoa (Region) Bidhaa (Products)  Idadi Iliyouzwa (Total Sales)  \\\n",
            "0           Kagera            Mchele                            293   \n",
            "1           Kagera            Maziwa                            555   \n",
            "2           Kagera            Mchele                            579   \n",
            "3           Kagera            Mchele                            983   \n",
            "4           Kagera           Mahindi                           1118   \n",
            "...            ...               ...                            ...   \n",
            "1290     Shinyanga            Maziwa                           2487   \n",
            "1291     Shinyanga            Mchele                           2750   \n",
            "1292     Shinyanga            Mchele                           2750   \n",
            "1293     Shinyanga            Mchele                           2750   \n",
            "1294     Shinyanga           Mahindi                           3422   \n",
            "\n",
            "      Gharama (Cost)  Mapato ( Net Income)  Faida (Profit)  Tarehe (Date)  \n",
            "0               2450                717850        128845.5          43831  \n",
            "1               1400                777000        139650.0          43831  \n",
            "2               2450               1418550        254971.5          43831  \n",
            "3               2450               2408350        433135.5          43831  \n",
            "4                500                559000        100545.0          43831  \n",
            "...              ...                   ...             ...            ...  \n",
            "1290            1400               3481800        626514.0          44166  \n",
            "1291            2450               6737500       1212382.5          44166  \n",
            "1292            2450               6737500       1212382.5          44166  \n",
            "1293            2450               6737500       1212382.5          44166  \n",
            "1294             500               1711000        307905.0          44166  \n",
            "\n",
            "[1295 rows x 7 columns]\n"
          ]
        }
      ],
      "source": [
        "# Read this /content/DATA_CLEANED.xlsx data in pandas\n",
        "\n",
        "import pandas as pd\n",
        "\n",
        "df = pd.read_excel('/content/DATA_CLEANED.xlsx')\n",
        "print(df)\n"
      ]
    },
    {
      "cell_type": "code",
      "source": [
        "# Remove duplicates\n",
        "\n",
        "df.drop_duplicates(inplace=True)\n",
        "print(df)\n"
      ],
      "metadata": {
        "colab": {
          "base_uri": "https://localhost:8080/"
        },
        "id": "iUxtbUsad4Fh",
        "outputId": "d4863649-fdf2-47f2-bf14-6b29c194c267"
      },
      "execution_count": 5,
      "outputs": [
        {
          "output_type": "stream",
          "name": "stdout",
          "text": [
            "     Mkoa (Region) Bidhaa (Products)  Idadi Iliyouzwa (Total Sales)  \\\n",
            "0           Kagera            Mchele                            293   \n",
            "1           Kagera            Maziwa                            555   \n",
            "2           Kagera            Mchele                            579   \n",
            "3           Kagera            Mchele                            983   \n",
            "4           Kagera           Mahindi                           1118   \n",
            "...            ...               ...                            ...   \n",
            "1287     Shinyanga           Mahindi                           2155   \n",
            "1289     Shinyanga           Mahindi                           2487   \n",
            "1290     Shinyanga            Maziwa                           2487   \n",
            "1291     Shinyanga            Mchele                           2750   \n",
            "1294     Shinyanga           Mahindi                           3422   \n",
            "\n",
            "      Gharama (Cost)  Mapato ( Net Income)  Faida (Profit)  Tarehe (Date)  \n",
            "0               2450                717850        128845.5          43831  \n",
            "1               1400                777000        139650.0          43831  \n",
            "2               2450               1418550        254971.5          43831  \n",
            "3               2450               2408350        433135.5          43831  \n",
            "4                500                559000        100545.0          43831  \n",
            "...              ...                   ...             ...            ...  \n",
            "1287             500               1077500        193875.0          44166  \n",
            "1289             500               1243500        223755.0          44166  \n",
            "1290            1400               3481800        626514.0          44166  \n",
            "1291            2450               6737500       1212382.5          44166  \n",
            "1294             500               1711000        307905.0          44166  \n",
            "\n",
            "[1123 rows x 7 columns]\n"
          ]
        }
      ]
    },
    {
      "cell_type": "code",
      "source": [
        "df.columns"
      ],
      "metadata": {
        "colab": {
          "base_uri": "https://localhost:8080/"
        },
        "id": "gpxHM-qFdvkj",
        "outputId": "255ffa96-b8a0-4a49-9714-29b02b2b4e04"
      },
      "execution_count": 2,
      "outputs": [
        {
          "output_type": "execute_result",
          "data": {
            "text/plain": [
              "Index(['Mkoa (Region)', 'Bidhaa (Products)', 'Idadi Iliyouzwa (Total Sales)',\n",
              "       'Gharama (Cost)', 'Mapato ( Net Income)', 'Faida (Profit)',\n",
              "       'Tarehe (Date)'],\n",
              "      dtype='object')"
            ]
          },
          "metadata": {},
          "execution_count": 2
        }
      ]
    },
    {
      "cell_type": "markdown",
      "source": [
        "# Multivariable Analysis"
      ],
      "metadata": {
        "id": "QHCJJaAK60hU"
      }
    },
    {
      "cell_type": "code",
      "source": [
        "# Step 1: Data Preparation\n",
        "df = pd.read_excel('/content/DATA_CLEANED.xlsx')\n",
        "\n",
        "\n",
        "import pandas as pd\n",
        "import warnings\n",
        "from sklearn.cluster import KMeans\n",
        "from sklearn.decomposition import PCA\n",
        "from sklearn.linear_model import LinearRegression\n",
        "import statsmodels.api as sm\n",
        "import matplotlib.pyplot as plt\n",
        "\n",
        "# Suppress warnings\n",
        "warnings.filterwarnings(\"ignore\")\n",
        "\n",
        "\n"
      ],
      "metadata": {
        "id": "24S1bOFWgqzw"
      },
      "execution_count": 49,
      "outputs": []
    },
    {
      "source": [
        "# Step 2: Psychographic Segmentation\n",
        "# Implement clustering or factor analysis to segment customers based on psychographic variables\n",
        "\n",
        "\n",
        "import pandas as pd\n",
        "from sklearn.preprocessing import StandardScaler\n",
        "from sklearn.impute import SimpleImputer\n",
        "from sklearn.cluster import KMeans\n",
        "\n",
        "# Assuming you have some hypothetical psychographic data\n",
        "psychographic_data = {\n",
        "    'Personality': [3, 1, 2, 5, 4],\n",
        "    'Values': [2, 3, 4, 1, 5],\n",
        "    'Interests': [1, 2, 3, 4, 5],\n",
        "    'Lifestyle': [5, 4, 3, 2, 1]\n",
        "}\n",
        "\n",
        "# Assuming the original dataset is stored in 'data' DataFrame\n",
        "data = pd.read_excel('/content/DATA_CLEANED.xlsx')\n",
        "\n",
        "# Combine datasets\n",
        "combined_data = pd.concat([data, pd.DataFrame(psychographic_data)], axis=1)\n",
        "\n",
        "# Separate numeric and non-numeric columns\n",
        "numeric_columns = combined_data.select_dtypes(include=['number']).columns\n",
        "non_numeric_columns = combined_data.select_dtypes(exclude=['number']).columns\n",
        "\n",
        "# Impute missing values for numeric columns with mean\n",
        "imputer_numeric = SimpleImputer(strategy='mean')\n",
        "combined_data[numeric_columns] = imputer_numeric.fit_transform(combined_data[numeric_columns])\n",
        "\n",
        "# Impute missing values for non-numeric columns with mode\n",
        "imputer_non_numeric = SimpleImputer(strategy='most_frequent')\n",
        "combined_data[non_numeric_columns] = imputer_non_numeric.fit_transform(combined_data[non_numeric_columns])\n",
        "\n",
        "# Normalize data\n",
        "scaler = StandardScaler()\n",
        "scaled_data = scaler.fit_transform(combined_data[numeric_columns])\n",
        "\n",
        "# Perform clustering\n",
        "kmeans = KMeans(n_clusters=3, random_state=42)\n",
        "clusters = kmeans.fit_predict(scaled_data)\n",
        "\n",
        "# Add cluster labels to the dataframe\n",
        "combined_data['Cluster'] = clusters\n",
        "\n",
        "# Optionally, you can analyze the clusters further to understand their characteristics\n",
        "cluster_centers = scaler.inverse_transform(kmeans.cluster_centers_)\n",
        "cluster_centers_df = pd.DataFrame(cluster_centers, columns=numeric_columns)\n",
        "\n",
        "print(cluster_centers_df)\n"
      ],
      "cell_type": "code",
      "metadata": {
        "colab": {
          "base_uri": "https://localhost:8080/"
        },
        "id": "fmXhrqP1ley5",
        "outputId": "3bebcb89-cbbe-4eb9-d33f-56d2d73eebc2"
      },
      "execution_count": 69,
      "outputs": [
        {
          "output_type": "stream",
          "name": "stdout",
          "text": [
            "   Idadi Iliyouzwa (Total Sales)  Gharama (Cost)  Mapato ( Net Income)  \\\n",
            "0                    1697.332255     1300.282943          2.171280e+06   \n",
            "1                    1118.000000      500.000000          5.590000e+05   \n",
            "2                    1880.333333    18700.000000          3.516223e+07   \n",
            "\n",
            "   Faida (Profit)  Tarehe (Date)  Personality    Values  Interests  Lifestyle  \n",
            "0    3.906354e+05   44017.755053     2.999192  2.998383   2.998383   3.001617  \n",
            "1    1.005450e+05   43831.000000     4.000000  5.000000   5.000000   1.000000  \n",
            "2    6.326397e+06   44027.929825     3.000000  3.000000   3.000000   3.000000  \n"
          ]
        }
      ]
    },
    {
      "cell_type": "code",
      "source": [
        "# Step 3: Multivariable Analysis\n",
        "# # Implement regression analysis or other techniques to analyze relationships between variables\n",
        "\n",
        "import pandas as pd\n",
        "import numpy as np\n",
        "import statsmodels.api as sm\n",
        "\n",
        "# Assuming the original dataset is stored in 'data' DataFrame\n",
        "data = pd.read_excel('/content/DATA_CLEANED.xlsx')\n",
        "\n",
        "# Select relevant columns for analysis\n",
        "selected_columns = ['Idadi Iliyouzwa (Total Sales)', 'Gharama (Cost)', 'Mapato ( Net Income)', 'Faida (Profit)']\n",
        "analysis_data = data[selected_columns]\n",
        "\n",
        "# Drop rows with missing values\n",
        "analysis_data = analysis_data.dropna()\n",
        "\n",
        "# Define independent and dependent variables\n",
        "X = analysis_data[['Gharama (Cost)', 'Mapato ( Net Income)']]  # Independent variables\n",
        "y = analysis_data['Faida (Profit)']  # Dependent variable\n",
        "\n",
        "# Add constant term for intercept\n",
        "X = sm.add_constant(X)\n",
        "\n",
        "# Fit the regression model\n",
        "model = sm.OLS(y, X).fit()\n",
        "\n",
        "# Print the summary of the regression model\n",
        "print(model.summary())\n"
      ],
      "metadata": {
        "colab": {
          "base_uri": "https://localhost:8080/"
        },
        "id": "b56BfnootW6Z",
        "outputId": "fbf7b430-7ffc-4559-e5e4-7fa90a55d46e"
      },
      "execution_count": 70,
      "outputs": [
        {
          "output_type": "stream",
          "name": "stdout",
          "text": [
            "                            OLS Regression Results                            \n",
            "==============================================================================\n",
            "Dep. Variable:         Faida (Profit)   R-squared:                       1.000\n",
            "Model:                            OLS   Adj. R-squared:                  1.000\n",
            "Method:                 Least Squares   F-statistic:                 1.844e+33\n",
            "Date:                Tue, 07 May 2024   Prob (F-statistic):               0.00\n",
            "Time:                        13:10:43   Log-Likelihood:                 25285.\n",
            "No. Observations:                1295   AIC:                        -5.056e+04\n",
            "Df Residuals:                    1292   BIC:                        -5.055e+04\n",
            "Df Model:                           2                                         \n",
            "Covariance Type:            nonrobust                                         \n",
            "========================================================================================\n",
            "                           coef    std err          t      P>|t|      [0.025      0.975]\n",
            "----------------------------------------------------------------------------------------\n",
            "const                 -8.94e-10   2.54e-11    -35.172      0.000   -9.44e-10   -8.44e-10\n",
            "Gharama (Cost)          -0.1500    1.4e-14  -1.07e+13      0.000      -0.150      -0.150\n",
            "Mapato ( Net Income)     0.1800   7.01e-18   2.57e+16      0.000       0.180       0.180\n",
            "==============================================================================\n",
            "Omnibus:                     1323.600   Durbin-Watson:                   0.432\n",
            "Prob(Omnibus):                  0.000   Jarque-Bera (JB):            56187.438\n",
            "Skew:                          -5.038   Prob(JB):                         0.00\n",
            "Kurtosis:                      33.656   Cond. No.                     9.52e+06\n",
            "==============================================================================\n",
            "\n",
            "Notes:\n",
            "[1] Standard Errors assume that the covariance matrix of the errors is correctly specified.\n",
            "[2] The condition number is large, 9.52e+06. This might indicate that there are\n",
            "strong multicollinearity or other numerical problems.\n"
          ]
        }
      ]
    },
    {
      "cell_type": "code",
      "source": [
        " # Step 4: A/B/C/D/E/F/G Testing\n",
        " # Design experiments and perform hypothesis testing to measure the impact of different treatments\n",
        "# Interpret the results if any\n",
        "\n",
        "import pandas as pd\n",
        "import numpy as np\n",
        "from scipy.stats import ttest_ind\n",
        "\n",
        "# Assuming your original dataset is stored in 'data' DataFrame\n",
        "data = pd.read_excel('/content/DATA_CLEANED.xlsx')\n",
        "\n",
        "# Define treatments and assign users to groups randomly\n",
        "treatments = ['A', 'B', 'C', 'D', 'E', 'F', 'G']\n",
        "data['Group'] = np.random.choice(treatments, size=len(data))\n",
        "\n",
        "# Define key metrics to measure\n",
        "key_metric = 'Idadi Iliyouzwa (Total Sales)'\n",
        "\n",
        "# Perform hypothesis testing\n",
        "group_means = data.groupby('Group')[key_metric].mean()\n",
        "group_counts = data.groupby('Group').size()\n",
        "\n",
        "# Compare each group with every other group using t-test\n",
        "for i in range(len(treatments)):\n",
        "    for j in range(i + 1, len(treatments)):\n",
        "        group1 = data[data['Group'] == treatments[i]][key_metric]\n",
        "        group2 = data[data['Group'] == treatments[j]][key_metric]\n",
        "        t_stat, p_value = ttest_ind(group1, group2)\n",
        "        rounded_p_value = round(p_value, 4)\n",
        "        print(f\"T-Test between Group {treatments[i]} and Group {treatments[j]}: p-value = {rounded_p_value}\")\n"
      ],
      "metadata": {
        "colab": {
          "base_uri": "https://localhost:8080/"
        },
        "id": "eWu1YdrJvSWm",
        "outputId": "2cdddfd0-defe-4d42-b493-359f82b107db"
      },
      "execution_count": 71,
      "outputs": [
        {
          "output_type": "stream",
          "name": "stdout",
          "text": [
            "T-Test between Group A and Group B: p-value = 0.6334\n",
            "T-Test between Group A and Group C: p-value = 0.3867\n",
            "T-Test between Group A and Group D: p-value = 0.0227\n",
            "T-Test between Group A and Group E: p-value = 0.3274\n",
            "T-Test between Group A and Group F: p-value = 0.9031\n",
            "T-Test between Group A and Group G: p-value = 0.9582\n",
            "T-Test between Group B and Group C: p-value = 0.2261\n",
            "T-Test between Group B and Group D: p-value = 0.0089\n",
            "T-Test between Group B and Group E: p-value = 0.1606\n",
            "T-Test between Group B and Group F: p-value = 0.7183\n",
            "T-Test between Group B and Group G: p-value = 0.683\n",
            "T-Test between Group C and Group D: p-value = 0.3103\n",
            "T-Test between Group C and Group E: p-value = 0.9467\n",
            "T-Test between Group C and Group F: p-value = 0.3405\n",
            "T-Test between Group C and Group G: p-value = 0.3833\n",
            "T-Test between Group D and Group E: p-value = 0.1837\n",
            "T-Test between Group D and Group F: p-value = 0.0165\n",
            "T-Test between Group D and Group G: p-value = 0.0251\n",
            "T-Test between Group E and Group F: p-value = 0.272\n",
            "T-Test between Group E and Group G: p-value = 0.3209\n",
            "T-Test between Group F and Group G: p-value = 0.9484\n"
          ]
        }
      ]
    },
    {
      "cell_type": "code",
      "source": [
        "# Statistical Interpretation based on the above result\n",
        "\n",
        "# Analyze the p-values obtained from the t-tests\n",
        "\n",
        "significant_level = 0.05\n",
        "\n",
        "for i in range(len(treatments)):\n",
        "    for j in range(i + 1, len(treatments)):\n",
        "        p_value = ttest_ind(data[data['Group'] == treatments[i]][key_metric], data[data['Group'] == treatments[j]][key_metric])[1]\n",
        "        if p_value < significant_level:\n",
        "            print(f\"There is a statistically significant difference in {key_metric} between Group {treatments[i]} and Group {treatments[j]}.\")\n",
        "        else:\n",
        "            print(f\"There is no statistically significant difference in {key_metric} between Group {treatments[i]} and Group {treatments[j]}.\")\n"
      ],
      "metadata": {
        "colab": {
          "base_uri": "https://localhost:8080/"
        },
        "id": "F-uT4h42xJWm",
        "outputId": "760b9b4d-6b61-462f-d36f-faa2c9271ed6"
      },
      "execution_count": 72,
      "outputs": [
        {
          "output_type": "stream",
          "name": "stdout",
          "text": [
            "There is no statistically significant difference in Idadi Iliyouzwa (Total Sales) between Group A and Group B.\n",
            "There is no statistically significant difference in Idadi Iliyouzwa (Total Sales) between Group A and Group C.\n",
            "There is a statistically significant difference in Idadi Iliyouzwa (Total Sales) between Group A and Group D.\n",
            "There is no statistically significant difference in Idadi Iliyouzwa (Total Sales) between Group A and Group E.\n",
            "There is no statistically significant difference in Idadi Iliyouzwa (Total Sales) between Group A and Group F.\n",
            "There is no statistically significant difference in Idadi Iliyouzwa (Total Sales) between Group A and Group G.\n",
            "There is no statistically significant difference in Idadi Iliyouzwa (Total Sales) between Group B and Group C.\n",
            "There is a statistically significant difference in Idadi Iliyouzwa (Total Sales) between Group B and Group D.\n",
            "There is no statistically significant difference in Idadi Iliyouzwa (Total Sales) between Group B and Group E.\n",
            "There is no statistically significant difference in Idadi Iliyouzwa (Total Sales) between Group B and Group F.\n",
            "There is no statistically significant difference in Idadi Iliyouzwa (Total Sales) between Group B and Group G.\n",
            "There is no statistically significant difference in Idadi Iliyouzwa (Total Sales) between Group C and Group D.\n",
            "There is no statistically significant difference in Idadi Iliyouzwa (Total Sales) between Group C and Group E.\n",
            "There is no statistically significant difference in Idadi Iliyouzwa (Total Sales) between Group C and Group F.\n",
            "There is no statistically significant difference in Idadi Iliyouzwa (Total Sales) between Group C and Group G.\n",
            "There is no statistically significant difference in Idadi Iliyouzwa (Total Sales) between Group D and Group E.\n",
            "There is a statistically significant difference in Idadi Iliyouzwa (Total Sales) between Group D and Group F.\n",
            "There is a statistically significant difference in Idadi Iliyouzwa (Total Sales) between Group D and Group G.\n",
            "There is no statistically significant difference in Idadi Iliyouzwa (Total Sales) between Group E and Group F.\n",
            "There is no statistically significant difference in Idadi Iliyouzwa (Total Sales) between Group E and Group G.\n",
            "There is no statistically significant difference in Idadi Iliyouzwa (Total Sales) between Group F and Group G.\n"
          ]
        }
      ]
    },
    {
      "cell_type": "markdown",
      "source": [
        "The statement \"**There is no statistically significant difference in Idadi Iliyouzwa (Total Sales) between Group A and Group B**\" indicates that the p-value obtained from the t-test comparing the Total Sales of Group A and Group B is greater than the chosen significance level (commonly set at 0.05). Similarly, for Group A compared with Group C and Group D, the p-values are also greater than 0.05.\n",
        "\n",
        "Thus, it implies that we fail to reject the null hypothesis in these comparisons. The null hypothesis in this context would be that there is no difference in Total Sales between the two groups. Since the p-values are greater than 0.05, we do not have sufficient evidence to conclude that there is a statistically significant difference in Total Sales between Group A and Group B, Group A and Group C, and Group A and Group D, et cetera.\n",
        "\n",
        "In other words, based on the data and the statistical test performed, we cannot confidently say that the observed differences in Total Sales between these groups are not due to random chance. Therefore, we conclude that there is no statistically significant difference in Total Sales between Group A and each of Group B, Group C, and Group D."
      ],
      "metadata": {
        "id": "hKrZifsq-_Hi"
      }
    },
    {
      "cell_type": "code",
      "source": [
        " # Step 5: Visualization\n",
        "# # Visualize the results to gain insights and communicate findings effectively\n",
        "\n",
        "import pandas as pd\n",
        "import numpy as np\n",
        "import matplotlib.pyplot as plt\n",
        "from scipy.stats import ttest_ind\n",
        "\n",
        "# Assuming the original dataset is stored in 'data' DataFrame\n",
        "data = pd.read_excel('/content/DATA_CLEANED.xlsx')\n",
        "\n",
        "# Define treatments and assign users to groups randomly\n",
        "treatments = ['A', 'B', 'C', 'D', 'E', 'F', 'G']\n",
        "data['Group'] = np.random.choice(treatments, size=len(data))\n",
        "\n",
        "# Define key metric to measure\n",
        "key_metric = 'Idadi Iliyouzwa (Total Sales)'\n",
        "\n",
        "# Perform hypothesis testing\n",
        "group_means = data.groupby('Group')[key_metric].mean()\n",
        "group_counts = data.groupby('Group').size()\n",
        "\n",
        "# Calculate the number of comparisons\n",
        "num_comparisons = len(treatments) * (len(treatments) - 1) // 2\n",
        "\n",
        "# Initialize subplots\n",
        "fig, axes = plt.subplots(nrows=2, ncols=3, figsize=(15, 10))\n",
        "axes = axes.flatten()\n",
        "\n",
        "# Compare each group with every other group using t-test\n",
        "plot_idx = 0\n",
        "for i in range(len(treatments)):\n",
        "    for j in range(i + 1, len(treatments)):\n",
        "        if plot_idx < len(axes):  # Check if plot_idx is within bounds\n",
        "            group1 = data[data['Group'] == treatments[i]][key_metric]\n",
        "            group2 = data[data['Group'] == treatments[j]][key_metric]\n",
        "            t_stat, p_value = ttest_ind(group1, group2)\n",
        "\n",
        "            # Plot histogram for each pair of groups\n",
        "            axes[plot_idx].hist(group1, alpha=0.5, label=treatments[i], color='blue', bins=20)\n",
        "            axes[plot_idx].hist(group2, alpha=0.5, label=treatments[j], color='orange', bins=20)\n",
        "            axes[plot_idx].set_title(f'Treatment Comparison: {treatments[i]} vs {treatments[j]}')\n",
        "            axes[plot_idx].legend()\n",
        "            axes[plot_idx].set_xlabel('Total Sales')\n",
        "            axes[plot_idx].set_ylabel('Frequency')\n",
        "\n",
        "        plot_idx += 1\n",
        "\n",
        "# Hide empty subplot(s) if necessary\n",
        "for ax in axes[plot_idx:]:\n",
        "    ax.axis('off')\n",
        "\n",
        "# Adjust layout\n",
        "plt.tight_layout()\n",
        "\n",
        "# Show plot\n",
        "plt.show()\n",
        "\n",
        "\n",
        "\n"
      ],
      "metadata": {
        "colab": {
          "base_uri": "https://localhost:8080/",
          "height": 751
        },
        "id": "phl-TJAZ4RVJ",
        "outputId": "76bf6107-177d-48da-80b3-768e567f0f66"
      },
      "execution_count": 73,
      "outputs": [
        {
          "output_type": "display_data",
          "data": {
            "text/plain": [
              "<Figure size 1500x1000 with 6 Axes>"
            ],
            "image/png": "[encoded data removed]"
          },
          "metadata": {}
        }
      ]
    },
    {
      "cell_type": "markdown",
      "source": [
        "Based on the obtained visualization, we can observe the following;\n",
        "\n",
        "1. **Distribution of Total Sales**\n",
        "    - Each histogram represents the distribution of Total Sales for a specific pair of treatment groups.\n",
        "    - The overlapping areas between the histograms indicate the similarities in Total Sales distribution between those groups.\n",
        "    - Differences in the shapes and peaks of the histograms suggest potential variations in Total Sales across different treatment groups.\n",
        "\n",
        "2. **Comparison of Group Means**\n",
        "    - Visually compare the centers of the histograms for each treatment group.\n",
        "    - Groups with statistically significant differences in Total Sales will exhibit visibly different mean values.\n",
        "    - For example, if the histograms for Group A and Group B show non-overlapping distributions, it suggests a potential difference in their average Total Sales."
      ],
      "metadata": {
        "id": "YvCfwC56BrpG"
      }
    }
  ]
}